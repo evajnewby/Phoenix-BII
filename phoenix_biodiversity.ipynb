{
 "cells": [
  {
   "cell_type": "markdown",
   "id": "69717711-f01b-4fad-84c3-8c1f40ac791f",
   "metadata": {},
   "source": [
    "https://meds-eds-220.github.io/MEDS-eds-220-course/assignments/final-project.html#task-1-thomas-fire-analysis-blog-post-and-accompanying-analyses"
   ]
  },
  {
   "cell_type": "markdown",
   "id": "730be5f5-aedc-493f-80c9-5b67c037c9de",
   "metadata": {},
   "source": [
    "# Github Repository: \n",
    "\n",
    "- https://github.com/evajnewby/Phoenix-BII\n",
    "- More detailed content is available in the above repository's README.md\n",
    "\n",
    "## Highlights:\n",
    "\n",
    "- Wrangling...\n",
    "\n",
    "# Biodiversity Intactness Index change in Phoenix, Arizona\n",
    "\n",
    "## About\n",
    "\n",
    "The purpose of this analysis is to save a boundary for the 2017 Thomas Fire in California as a `GeoJSON`, to then be added ontop of the false color image in part 2. To do this, data of all California fires will need to be downloaded, explored, filtered, and saved. \n",
    "\n",
    "Additionally, through working through the steps above, one will gain practice loading in shapefiles, cleaning the data, and filter to the appropriate fire.\n",
    "\n",
    "## The Dataset\n",
    "The data is from the United States Geological Survey (USGS) and contains data for all California fire perimeters in several file formats compatible with python (GeoJSON, Shapefile, CSV, etc.). Some fires are not included due to records being lost or destroyed. \n",
    "\n",
    "Data reference:\n",
    "U.S. Geological Survey (USGS). (2020). California Fire Perimeters (ALL). Data.gov. Retrieved November 19, 2024, from https://catalog.data.gov/dataset/california-fire-perimeters-all-b3436\n",
    "\n",
    "## Complete Workflow"
   ]
  },
  {
   "cell_type": "code",
   "execution_count": null,
   "id": "7fd151e8-7bc8-4044-a734-324c205cde8a",
   "metadata": {},
   "outputs": [],
   "source": []
  }
 ],
 "metadata": {
  "kernelspec": {
   "display_name": "Anaconda 3 (EDS220)",
   "language": "python",
   "name": "eds220-env"
  },
  "language_info": {
   "codemirror_mode": {
    "name": "ipython",
    "version": 3
   },
   "file_extension": ".py",
   "mimetype": "text/x-python",
   "name": "python",
   "nbconvert_exporter": "python",
   "pygments_lexer": "ipython3",
   "version": "3.11.4"
  }
 },
 "nbformat": 4,
 "nbformat_minor": 5
}
