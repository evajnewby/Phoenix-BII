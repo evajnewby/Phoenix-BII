{
 "cells": [
  {
   "cell_type": "markdown",
   "id": "69717711-f01b-4fad-84c3-8c1f40ac791f",
   "metadata": {},
   "source": [
    "https://meds-eds-220.github.io/MEDS-eds-220-course/assignments/final-project.html#task-1-thomas-fire-analysis-blog-post-and-accompanying-analyses"
   ]
  },
  {
   "cell_type": "markdown",
   "id": "730be5f5-aedc-493f-80c9-5b67c037c9de",
   "metadata": {},
   "source": [
    "## Github Repository: \n",
    "\n",
    "- https://github.com/evajnewby/Phoenix-BII\n",
    "- More detailed content is available in the above repository's README.md\n",
    "\n",
    "# Biodiversity Intactness Index (BII) change in Phoenix, Arizona\n",
    "\n",
    "## About\n",
    "\n",
    "This analysis aims to explore the changes in BII within the Phoenix County subdivision area from 2017 to 2020, highlighting the impact of urban growth on biodiversity over time. To achieve this, first create a map of the Phoenix subdivision in its broader geographic context. Then, calculate the percentage of the subdivision's area with a BII of at least 0.75 in both 2017 and 2020. Finally, develop a visualization to illustrate the area with a BII ≥ 0.75 in 2017 that was lost by 2020.\n",
    "\n",
    "## Highlights:\n",
    "\n",
    "- Access data from the Microsoft Planetary Computer STAC Catalog\n",
    "- Wrangling vector and raster data\n",
    "- Plotting raster data\n",
    "- Summing pixel data \n",
    "\n",
    "## The Dataset\n",
    "The BII data was accessed from the Microsoft Planetary Computer STAC Catalog. The code in this notebook contains steps to access the catalog for the correct location and dates. \n",
    "\n",
    "The Arizona shapefile was accessed from the US Census Bureau's TIGER shapefiles. The code in this notebook contains steps to filter to the Phoenix area only. \n",
    "\n",
    "Data reference:\n",
    "Microsoft. IO Biodiversity Dataset. Planetary Computer. Retrieved from https://planetarycomputer.microsoft.com/dataset/io-biodiversity\n",
    "\n",
    "U.S. Census Bureau. (2020). 2020 Census County Subdivisions Shapefiles. U.S. Department of Commerce. Retrieved from https://www.census.gov/cgi-bin/geo/shapefiles/index.php?year=2020&layergroup=County+Subdivisions\n",
    "\n",
    "## Complete Workflow"
   ]
  },
  {
   "cell_type": "code",
   "execution_count": null,
   "id": "7fd151e8-7bc8-4044-a734-324c205cde8a",
   "metadata": {},
   "outputs": [],
   "source": []
  },
  {
   "cell_type": "markdown",
   "id": "61efc092-6e21-492d-8850-f4dfdffeefbc",
   "metadata": {},
   "source": [
    "## Step-by-Step Workflow\n",
    "\n",
    "### Load Packages and Data"
   ]
  },
  {
   "cell_type": "code",
   "execution_count": 4,
   "id": "af0b49a6-9f23-4aa6-bfe2-e2463311255b",
   "metadata": {
    "tags": []
   },
   "outputs": [],
   "source": [
    "# Load Packages\n",
    "import numpy as np\n",
    "import matplotlib.pyplot as plt\n",
    "import geopandas as gpd\n",
    "import rioxarray as rioxr\n",
    "\n",
    "from pystac_client import Client  # To access STAC catalogs\n",
    "\n",
    "import planetary_computer  # To sign items from the MPC STAC catalog \n",
    "\n",
    "from IPython.display import Image  # To nicely display images"
   ]
  },
  {
   "cell_type": "code",
   "execution_count": 18,
   "id": "40ea2090-0be6-498c-9881-e5a48473a2e0",
   "metadata": {
    "tags": []
   },
   "outputs": [
    {
     "data": {
      "text/plain": [
       "<pystac_client.item_search.ItemSearch at 0x7f3b4e4a56d0>"
      ]
     },
     "execution_count": 18,
     "metadata": {},
     "output_type": "execute_result"
    }
   ],
   "source": [
    "# Define bounding box for Phoenix area\n",
    "phoenix_bbox = list([-112.826843, 32.974108, -111.184387, 33.863574])\n",
    "\n",
    "# Access Microsoft Planetary Catalog\n",
    "catalog = Client.open(\n",
    "\"https://planetarycomputer.microsoft.com/api/stac/v1\",\n",
    "    modifier=planetary_computer.sign_inplace,\n",
    ")\n",
    "\n",
    "search = catalog.search(collections = ['io-biodiversity'], bbox = phoenix_bbox\n",
    "                       )\n",
    "\n",
    "search"
   ]
  },
  {
   "cell_type": "code",
   "execution_count": 11,
   "id": "4d1f6e7d-165c-449c-9eea-80870245bfcd",
   "metadata": {
    "tags": []
   },
   "outputs": [
    {
     "name": "stdout",
     "output_type": "stream",
     "text": [
      "Returned 4 items\n"
     ]
    }
   ],
   "source": [
    "# Retrieve search items\n",
    "items = search.item_collection()\n",
    "print(f\"Returned {len(items)} items\")"
   ]
  },
  {
   "cell_type": "code",
   "execution_count": 14,
   "id": "cd854972-2d91-4e72-9754-b57e5069e889",
   "metadata": {
    "tags": []
   },
   "outputs": [
    {
     "data": {
      "text/html": [
       "<img src=\"https://planetarycomputer.microsoft.com/api/data/v1/item/preview.png?collection=io-biodiversity&item=bii_2017_34.74464974521749_-115.38597824385106_cog&assets=data&tile_format=png&colormap_name=io-bii&rescale=0%2C1&expression=0.97%2A%28data_b1%2A%2A3.84%29&format=png\" width=\"600\"/>"
      ],
      "text/plain": [
       "<IPython.core.display.Image object>"
      ]
     },
     "execution_count": 14,
     "metadata": {},
     "output_type": "execute_result"
    }
   ],
   "source": [
    "# Extract 2017 \n",
    "item2017 = items[3]\n",
    "\n",
    "Image(url = item2017.assets['rendered_preview'].href, width = 600)"
   ]
  },
  {
   "cell_type": "code",
   "execution_count": 15,
   "id": "e68ce364-524a-4eb6-bce1-d06b055c87ec",
   "metadata": {
    "tags": []
   },
   "outputs": [
    {
     "data": {
      "text/html": [
       "<img src=\"https://planetarycomputer.microsoft.com/api/data/v1/item/preview.png?collection=io-biodiversity&item=bii_2020_34.74464974521749_-115.38597824385106_cog&assets=data&tile_format=png&colormap_name=io-bii&rescale=0%2C1&expression=0.97%2A%28data_b1%2A%2A3.84%29&format=png\" width=\"600\"/>"
      ],
      "text/plain": [
       "<IPython.core.display.Image object>"
      ]
     },
     "execution_count": 15,
     "metadata": {},
     "output_type": "execute_result"
    }
   ],
   "source": [
    "# Extract 2020\n",
    "item2020 = items[0]\n",
    "\n",
    "Image(url = item2020.assets['rendered_preview'].href, width = 600)"
   ]
  },
  {
   "cell_type": "code",
   "execution_count": 17,
   "id": "4064bf28-1cce-4a49-a7f1-b42295c9a7e2",
   "metadata": {
    "tags": []
   },
   "outputs": [],
   "source": [
    "# Create Phoenix BII Raster\n",
    "BII2020 = rioxr.open_rasterio(item2020.assets['data'].href)"
   ]
  },
  {
   "cell_type": "markdown",
   "id": "e7ae1e73-70cf-40ee-81a0-da6e2a7a5233",
   "metadata": {},
   "source": [
    "#### Read in Arizona Shapfiles"
   ]
  },
  {
   "cell_type": "code",
   "execution_count": null,
   "id": "ad87b1f3-b5be-41f3-bdc1-3fe357494c59",
   "metadata": {},
   "outputs": [],
   "source": [
    "# Arizona Shapefiles, filter to Phoenix\n"
   ]
  }
 ],
 "metadata": {
  "kernelspec": {
   "display_name": "Anaconda 3 (EDS220)",
   "language": "python",
   "name": "eds220-env"
  },
  "language_info": {
   "codemirror_mode": {
    "name": "ipython",
    "version": 3
   },
   "file_extension": ".py",
   "mimetype": "text/x-python",
   "name": "python",
   "nbconvert_exporter": "python",
   "pygments_lexer": "ipython3",
   "version": "3.11.4"
  }
 },
 "nbformat": 4,
 "nbformat_minor": 5
}
